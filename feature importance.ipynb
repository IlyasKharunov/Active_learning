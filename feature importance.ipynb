{
 "cells": [
  {
   "cell_type": "code",
   "execution_count": 119,
   "metadata": {},
   "outputs": [],
   "source": [
    "import numpy as np\n",
    "from urllib.request import urlopen\n",
    "\n",
    "from sklearn.ensemble import RandomForestRegressor\n",
    "from sklearn.metrics import mean_squared_error\n",
    "\n",
    "from collections import namedtuple\n",
    "\n",
    "import subprocess\n",
    "from time import time\n",
    "\n",
    "from math import sqrt, factorial\n",
    "import re"
   ]
  },
  {
   "cell_type": "code",
   "execution_count": 4,
   "metadata": {},
   "outputs": [],
   "source": [
    "import pdfcrowd\n",
    "import sys\n",
    "\n",
    "try:\n",
    "    # create the API client instance\n",
    "    client = pdfcrowd.HtmlToPdfClient('djockerok', 'f6f23a55d4cecc7d2345529a4bf60812')\n",
    "\n",
    "    # configure the conversion\n",
    "    client.setPageSize(u'A4')\n",
    "    client.setContentAreaY(u'-0.94in')\n",
    "    client.setViewportWidth(3840)\n",
    "    client.setViewportHeight(2160)\n",
    "    client.setRenderingMode(u'viewport')\n",
    "\n",
    "    # run the conversion and write the result to a file\n",
    "    client.convertUrlToFile('https://resume.io/r/yAzB8QANw', 'result.pdf')\n",
    "except pdfcrowd.Error as why:\n",
    "    # report the error\n",
    "    sys.stderr.write('Pdfcrowd Error: {}\\n'.format(why))\n",
    "\n",
    "    # rethrow or handle the exception\n",
    "    raise"
   ]
  },
  {
   "cell_type": "code",
   "execution_count": 120,
   "metadata": {},
   "outputs": [],
   "source": [
    "POINTS_PATH = 'feature_points.txt'"
   ]
  },
  {
   "cell_type": "code",
   "execution_count": 121,
   "metadata": {},
   "outputs": [],
   "source": [
    "def oracle(array):\n",
    "    url = 'http://185.86.144.8/oracle?x1={:f}&x2={:f}&x3={:f}&x4={:f}&x5={:f}&x6={:f}&x7={:f}&x8={:f}&x9={:f}&x10={:f}'.format(\n",
    "        *array)\n",
    "\n",
    "    with urlopen(url) as response, open(POINTS_PATH, 'a') as out_file:\n",
    "        data = response.read().decode('utf-8')\n",
    "        out_file.write(str(array) + '\\t' + data + '\\n')\n",
    "        parsed_data = re.split(r'^Function value = |\\nAttempts left = ', data)\n",
    "        if (data != 'UNDIFINED'):\n",
    "            result, attempts = [np.float64(number)\n",
    "                                for number in parsed_data if number]\n",
    "\n",
    "        else:\n",
    "            return np.inf\n",
    "\n",
    "    return result"
   ]
  },
  {
   "cell_type": "code",
   "execution_count": 153,
   "metadata": {},
   "outputs": [
    {
     "data": {
      "text/plain": [
       "-95.4126097877"
      ]
     },
     "execution_count": 153,
     "metadata": {},
     "output_type": "execute_result"
    }
   ],
   "source": [
    "oracle(np.array([ 0., 10., 10., 10., 10., 10., 10., 10., 10., 10.]))"
   ]
  },
  {
   "cell_type": "code",
   "execution_count": 2,
   "metadata": {},
   "outputs": [],
   "source": [
    "import multiprocessing\n",
    "multiprocessing.cpu_count()"
   ]
  },
  {
   "cell_type": "code",
   "execution_count": 3,
   "metadata": {},
   "outputs": [
    {
     "data": {
      "text/plain": [
       "4"
      ]
     },
     "execution_count": 3,
     "metadata": {},
     "output_type": "execute_result"
    }
   ],
   "source": [
    "multiprocessing.cpu_count()"
   ]
  },
  {
   "cell_type": "code",
   "execution_count": 139,
   "metadata": {},
   "outputs": [],
   "source": [
    "labels = np.empty(10000)\n",
    "a = 10 * np.random.random_sample((10000, 10))\n",
    "for i in range(len(a)):\n",
    "    labels[i] = oracle(a[i])"
   ]
  },
  {
   "cell_type": "code",
   "execution_count": 140,
   "metadata": {},
   "outputs": [
    {
     "name": "stdout",
     "output_type": "stream",
     "text": [
      "-4904.75994586 9011.95767574\n"
     ]
    }
   ],
   "source": [
    "print(labels.min(),labels.max())"
   ]
  },
  {
   "cell_type": "code",
   "execution_count": 142,
   "metadata": {},
   "outputs": [],
   "source": [
    "b = np.empty((10000,190))\n",
    "b[:,:10] = a\n",
    "k = 10\n",
    "for i in range(10):\n",
    "    for j in range(i+1,10):\n",
    "        b[:,k] = a[:,i]*a[:,j]\n",
    "        b[:,k+1] = a[:,i]+a[:,j]\n",
    "        b[:,k+2] = a[:,i]/a[:,j]\n",
    "        b[:,k+3] = a[:,j]/a[:,i]\n",
    "        k += 4"
   ]
  },
  {
   "cell_type": "code",
   "execution_count": 143,
   "metadata": {},
   "outputs": [],
   "source": [
    "np.save('10000_samples',a)"
   ]
  },
  {
   "cell_type": "code",
   "execution_count": 144,
   "metadata": {},
   "outputs": [],
   "source": [
    "np.save('10000_labels',labels)"
   ]
  },
  {
   "cell_type": "code",
   "execution_count": 145,
   "metadata": {},
   "outputs": [
    {
     "name": "stdout",
     "output_type": "stream",
     "text": [
      "58.68218964931596\n"
     ]
    }
   ],
   "source": [
    "forest = RandomForestRegressor(n_estimators = 1000, max_features=1.)\n",
    "forest.fit(b, labels)\n",
    "ans = forest.predict(b)\n",
    "\n",
    "rmse = sqrt(mean_squared_error(labels, ans))\n",
    "print(rmse)"
   ]
  },
  {
   "cell_type": "code",
   "execution_count": 146,
   "metadata": {},
   "outputs": [],
   "source": [
    "args = np.argsort(-forest.feature_importances_)"
   ]
  },
  {
   "cell_type": "code",
   "execution_count": 147,
   "metadata": {},
   "outputs": [
    {
     "name": "stdout",
     "output_type": "stream",
     "text": [
      "62 0.10489878784169951\n",
      "184 0.07642882741601377\n",
      "188 0.0739580613212587\n",
      "49 0.05226737528944467\n",
      "12 0.05055516528653012\n",
      "44 0.04181714060745929\n",
      "63 0.04093864510476451\n",
      "22 0.03896592431683401\n",
      "164 0.03668684862565145\n",
      "48 0.0344595453599513\n"
     ]
    }
   ],
   "source": [
    "for feature, importance in zip(args[:10], forest.feature_importances_[args][:10]):\n",
    "    print(feature, importance)"
   ]
  },
  {
   "cell_type": "code",
   "execution_count": 149,
   "metadata": {},
   "outputs": [
    {
     "data": {
      "text/plain": [
       "array([ 62, 184, 188,  49,  12,  44,  63,  22, 164,  48,   0,   1,   2,\n",
       "         3,   4,   5,   6,   7,   8,   9], dtype=int64)"
      ]
     },
     "execution_count": 149,
     "metadata": {},
     "output_type": "execute_result"
    }
   ],
   "source": [
    "ultimate_features = args[:10]\n",
    "ultimate_features = np.concatenate((ultimate_features,np.arange(10)))\n",
    "ultimate_features"
   ]
  },
  {
   "cell_type": "code",
   "execution_count": 63,
   "metadata": {},
   "outputs": [
    {
     "name": "stdout",
     "output_type": "stream",
     "text": [
      "1.4562243900828872e+46\n"
     ]
    }
   ],
   "source": [
    "forest1 = RandomForestRegressor(n_estimators = 1000, max_features=0.8)\n",
    "forest1.fit(b[:,:10], labels)\n",
    "ans = forest1.predict(b[:,:10])\n",
    "\n",
    "rmse = sqrt(mean_squared_error(labels, ans))\n",
    "print(rmse)"
   ]
  },
  {
   "cell_type": "code",
   "execution_count": 47,
   "metadata": {},
   "outputs": [],
   "source": [
    "args1 = np.argsort(-forest1.feature_importances_)"
   ]
  },
  {
   "cell_type": "code",
   "execution_count": 48,
   "metadata": {},
   "outputs": [
    {
     "name": "stdout",
     "output_type": "stream",
     "text": [
      "1 0.3573114690539652\n",
      "0 0.14361866249588695\n",
      "2 0.13100794772310098\n",
      "4 0.11353069043446275\n",
      "9 0.06399184501803466\n",
      "5 0.0497695690404563\n",
      "7 0.04012250633403388\n",
      "8 0.03616730067854955\n",
      "3 0.03384800952007879\n",
      "6 0.030631999701430823\n"
     ]
    }
   ],
   "source": [
    "for feature, importance in zip(args1, forest1.feature_importances_[args1]):\n",
    "    print(feature, importance)"
   ]
  },
  {
   "cell_type": "code",
   "execution_count": 89,
   "metadata": {},
   "outputs": [],
   "source": [
    "ultimate_features = np.concatenate((args[:10], ultimate_features))"
   ]
  },
  {
   "cell_type": "code",
   "execution_count": 90,
   "metadata": {},
   "outputs": [],
   "source": [
    "ultimate_features.sort()"
   ]
  },
  {
   "cell_type": "code",
   "execution_count": 94,
   "metadata": {},
   "outputs": [
    {
     "data": {
      "text/plain": [
       "array([  0,   1,   2,   3,   4,   5,   6,   7,   8,   9,  10,  11,  28,\n",
       "        29,  30,  34,  35,  45,  46,  47,  51,  58,  59,  78,  79, 144,\n",
       "       145, 147], dtype=int64)"
      ]
     },
     "execution_count": 94,
     "metadata": {},
     "output_type": "execute_result"
    }
   ],
   "source": [
    "ultimate_features = np.unique(ultimate_features)\n",
    "ultimate_features"
   ]
  },
  {
   "cell_type": "code",
   "execution_count": 75,
   "metadata": {},
   "outputs": [
    {
     "name": "stdout",
     "output_type": "stream",
     "text": [
      "1.1122846502076133e+46\n"
     ]
    }
   ],
   "source": [
    "forest2 = RandomForestRegressor(n_estimators = 1000, max_features=1.)\n",
    "forest2.fit(b[:,ultimate_features], labels)\n",
    "ans = forest2.predict(b[:,ultimate_features])\n",
    "\n",
    "rmse = sqrt(mean_squared_error(labels, ans))\n",
    "print(rmse)"
   ]
  },
  {
   "cell_type": "code",
   "execution_count": null,
   "metadata": {},
   "outputs": [],
   "source": []
  },
  {
   "cell_type": "code",
   "execution_count": 68,
   "metadata": {},
   "outputs": [],
   "source": [
    "Arguments = namedtuple('Arguments', 'test train')\n",
    "args = Arguments('test.txt','train.txt')"
   ]
  },
  {
   "cell_type": "code",
   "execution_count": 69,
   "metadata": {},
   "outputs": [],
   "source": [
    "train_data = np.loadtxt(args.train)\n",
    "test_data  = np.loadtxt(args.test)\n",
    "\n",
    "total_data = np.concatenate(([train_data, test_data]), axis=0)"
   ]
  },
  {
   "cell_type": "code",
   "execution_count": 100,
   "metadata": {},
   "outputs": [],
   "source": [
    "total_data_e = np.empty((len(total_data),191))\n",
    "total_data_e[:,:11] = total_data\n",
    "k = 11\n",
    "for i in range(1,11):\n",
    "    for j in range(i+1,11):\n",
    "        total_data_e[:,k] = total_data[:,i]*total_data[:,j]\n",
    "        total_data_e[:,k+1] = total_data[:,i] + total_data[:,j]\n",
    "        total_data_e[:,k+2] = total_data[:,i]/total_data[:,j]\n",
    "        total_data_e[:,k+3] = total_data[:,j]/total_data[:,i]\n",
    "        k += 4"
   ]
  },
  {
   "cell_type": "code",
   "execution_count": 1,
   "metadata": {},
   "outputs": [
    {
     "name": "stdout",
     "output_type": "stream",
     "text": [
      "0\n",
      "-1000\n",
      "-2000\n",
      "-3000\n",
      "-4000\n"
     ]
    }
   ],
   "source": [
    "for i in range(5):\n",
    "    print(-i*1000)"
   ]
  },
  {
   "cell_type": "code",
   "execution_count": 101,
   "metadata": {},
   "outputs": [
    {
     "data": {
      "text/plain": [
       "array([  0,   1,   2,   3,   4,   5,   6,   7,   8,   9,  10,  11,  28,\n",
       "        29,  30,  34,  35,  45,  46,  47,  51,  58,  59,  78,  79, 144,\n",
       "       145, 147], dtype=int64)"
      ]
     },
     "execution_count": 101,
     "metadata": {},
     "output_type": "execute_result"
    }
   ],
   "source": [
    "ultimate_features"
   ]
  },
  {
   "cell_type": "code",
   "execution_count": 102,
   "metadata": {},
   "outputs": [
    {
     "name": "stdout",
     "output_type": "stream",
     "text": [
      "10181854064.037718\n"
     ]
    }
   ],
   "source": [
    "forest = RandomForestRegressor(n_estimators = 1000, max_features=1.)\n",
    "forest.fit(total_data_e[:, ultimate_features + 1], total_data_e[:, 0])\n",
    "ans = forest.predict(total_data_e[:, ultimate_features + 1])\n",
    "\n",
    "rmse = sqrt(mean_squared_error(total_data_e[:, 0], ans))\n",
    "print(rmse)"
   ]
  },
  {
   "cell_type": "code",
   "execution_count": 105,
   "metadata": {},
   "outputs": [
    {
     "data": {
      "text/plain": [
       "28"
      ]
     },
     "execution_count": 105,
     "metadata": {},
     "output_type": "execute_result"
    }
   ],
   "source": [
    "len(forest.feature_importances_)"
   ]
  },
  {
   "cell_type": "code",
   "execution_count": 107,
   "metadata": {},
   "outputs": [],
   "source": [
    "idxs = np.argsort(-forest.feature_importances_)"
   ]
  },
  {
   "cell_type": "code",
   "execution_count": 108,
   "metadata": {},
   "outputs": [
    {
     "data": {
      "text/plain": [
       "array([0.50782594, 0.37034712, 0.02247834, 0.01564369, 0.01554232,\n",
       "       0.01311995, 0.0108624 , 0.00661802, 0.00506222, 0.00404302,\n",
       "       0.00290253, 0.00260435, 0.00224044, 0.00189829, 0.00176072,\n",
       "       0.00173039, 0.0017028 , 0.00156494, 0.0015056 , 0.00138606,\n",
       "       0.0013561 , 0.00129185, 0.00118147, 0.00116608, 0.00113303,\n",
       "       0.00107501, 0.00098464, 0.00097268])"
      ]
     },
     "execution_count": 108,
     "metadata": {},
     "output_type": "execute_result"
    }
   ],
   "source": [
    "forest.feature_importances_[idxs]"
   ]
  },
  {
   "cell_type": "code",
   "execution_count": 109,
   "metadata": {},
   "outputs": [
    {
     "data": {
      "text/plain": [
       "array([ 10,  11,  47,   2,  46,   0,  78,   1,  79,   8,   3,  51, 147,\n",
       "        28,   6,   9,   4,  30,  45, 144, 145,  29,  35,  58,   5,   7,\n",
       "        34,  59], dtype=int64)"
      ]
     },
     "execution_count": 109,
     "metadata": {},
     "output_type": "execute_result"
    }
   ],
   "source": [
    "ultimate_features[idxs]"
   ]
  },
  {
   "cell_type": "code",
   "execution_count": null,
   "metadata": {},
   "outputs": [],
   "source": [
    "18383855314.000107 1000"
   ]
  },
  {
   "cell_type": "code",
   "execution_count": null,
   "metadata": {},
   "outputs": [],
   "source": [
    "X = train_data[:len(train_data)//2,1:]\n",
    "y_old = train_data[:len(train_data)//2,0]\n",
    "y_new = []\n",
    "\n",
    "start = time()\n",
    "for i in np.arange(0,5):\n",
    "    y_new.append(float(oracle(*X[i])))\n",
    "stop = time()\n",
    "print('time: ', stop - start)\n",
    "\n",
    "for i,j in zip(y_old[:5],y_new):\n",
    "    print(i,j)"
   ]
  },
  {
   "cell_type": "code",
   "execution_count": null,
   "metadata": {},
   "outputs": [],
   "source": [
    "ans = forest.predict(total_data[:, 1:])\n",
    "\n",
    "rmse = sqrt(mean_squared_error(total_data[:, 0], ans))\n",
    "print(rmse)"
   ]
  },
  {
   "cell_type": "code",
   "execution_count": null,
   "metadata": {},
   "outputs": [],
   "source": [
    "forest.feature_importances_"
   ]
  }
 ],
 "metadata": {
  "kernelspec": {
   "display_name": "Python 3",
   "language": "python",
   "name": "python3"
  },
  "language_info": {
   "codemirror_mode": {
    "name": "ipython",
    "version": 3
   },
   "file_extension": ".py",
   "mimetype": "text/x-python",
   "name": "python",
   "nbconvert_exporter": "python",
   "pygments_lexer": "ipython3",
   "version": "3.7.8"
  }
 },
 "nbformat": 4,
 "nbformat_minor": 4
}
